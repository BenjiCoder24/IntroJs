{
 "cells": [
  {
   "cell_type": "code",
   "execution_count": 6,
   "metadata": {},
   "outputs": [
    {
     "data": {
      "text/html": [
       "<script src=\"https://cdnjs.cloudflare.com/ajax/libs/p5.js/1.4.0/p5.js\"></script>\n",
       "<div id=\"p5-container\"></div>\n",
       "\n",
       "<script>\n",
       "// Your p5.js code here\n",
       "let sketch = function(p) {\n",
       "  p.setup = function() {\n",
       "    p.createCanvas(400, 400);\n",
       "    p.background(200);\n",
       "  };\n",
       "\n",
       "  p.draw = function() {\n",
       "    p.fill(255, 0, 0);\n",
       "    p.ellipse(p.width / 2, p.height / 2, 50, 50);\n",
       "  };\n",
       "};\n",
       "\n",
       "new p5(sketch, 'p5-container');\n",
       "</script>\n"
      ],
      "text/plain": [
       "<IPython.core.display.HTML object>"
      ]
     },
     "metadata": {},
     "output_type": "display_data"
    }
   ],
   "source": [
    "%%html\n",
    "<script src=\"https://cdnjs.cloudflare.com/ajax/libs/p5.js/1.4.0/p5.js\"></script>\n",
    "<div id=\"p5-container\"></div>\n",
    "\n",
    "<script>\n",
    "// Your p5.js code here\n",
    "let sketch = function(p) {\n",
    "  p.setup = function() {\n",
    "    p.createCanvas(400, 400);\n",
    "    p.background(200);\n",
    "  };\n",
    "\n",
    "  p.draw = function() {\n",
    "    p.fill(255, 0, 0);\n",
    "    p.ellipse(p.width / 2, p.height / 2, 50, 50);\n",
    "  };\n",
    "};\n",
    "\n",
    "new p5(sketch, 'p5-container');\n",
    "</script>"
   ]
  },
  {
   "cell_type": "code",
   "execution_count": 7,
   "metadata": {},
   "outputs": [
    {
     "data": {
      "text/html": [
       "test\n"
      ],
      "text/plain": [
       "<IPython.core.display.HTML object>"
      ]
     },
     "metadata": {},
     "output_type": "display_data"
    }
   ],
   "source": [
    "%%html\n",
    "test\n"
   ]
  }
 ],
 "metadata": {
  "kernelspec": {
   "display_name": "Python 3",
   "language": "python",
   "name": "python3"
  },
  "language_info": {
   "codemirror_mode": {
    "name": "ipython",
    "version": 3
   },
   "file_extension": ".py",
   "mimetype": "text/x-python",
   "name": "python",
   "nbconvert_exporter": "python",
   "pygments_lexer": "ipython3",
   "version": "3.10.13"
  }
 },
 "nbformat": 4,
 "nbformat_minor": 2
}
