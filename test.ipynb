{
 "cells": [
  {
   "cell_type": "code",
   "execution_count": 4,
   "id": "79f22f44-279a-4a4e-991c-8a795ff81220",
   "metadata": {},
   "outputs": [
    {
     "data": {
      "text/html": [
       "<script src=\"https://cdnjs.cloudflare.com/ajax/libs/p5.js/1.4.0/p5.js\"></script>\n",
       "<div id=\"p5-container\"></div>\n",
       "\n",
       "<script>\n",
       "// Your p5.js code here\n",
       "let sketch = function(p) {\n",
       "  p.setup = function() {\n",
       "    p.createCanvas(400, 400);\n",
       "    p.background(200);\n",
       "  };\n",
       "\n",
       "  p.draw = function() {\n",
       "    p.fill(255, 0, 0);\n",
       "    p.ellipse(p.width / 2, p.height / 2, 50, 50);\n",
       "  };\n",
       "};\n",
       "\n",
       "new p5(sketch, 'p5-container');\n",
       "</script>\n",
       "\n"
      ],
      "text/plain": [
       "<IPython.core.display.HTML object>"
      ]
     },
     "metadata": {},
     "output_type": "display_data"
    }
   ],
   "source": [
    "%%html\n",
    "<script src=\"https://cdnjs.cloudflare.com/ajax/libs/p5.js/1.4.0/p5.js\"></script>\n",
    "<div id=\"p5-container\"></div>\n",
    "\n",
    "<script>\n",
    "// Your p5.js code here\n",
    "let sketch = function(p) {\n",
    "  p.setup = function() {\n",
    "    p.createCanvas(400, 400);\n",
    "    p.background(200);\n",
    "  };\n",
    "\n",
    "  p.draw = function() {\n",
    "    p.fill(255, 0, 0);\n",
    "    p.ellipse(p.width / 2, p.height / 2, 50, 50);\n",
    "  };\n",
    "};\n",
    "\n",
    "new p5(sketch, 'p5-container');\n",
    "</script>\n",
    "\n"
   ]
  },
  {
   "cell_type": "code",
   "execution_count": null,
   "id": "53c19108-b644-46b6-a2e6-3a5a9ee79e16",
   "metadata": {},
   "outputs": [],
   "source": [
    "const p5 = require('node-p5');\n",
    "\n",
    "// Create a p5 sketch\n",
    "let sketch = (p) => {\n",
    "  p.setup = () => {\n",
    "    p.createCanvas(400, 400);\n",
    "    p.background(200);\n",
    "  };\n",
    "\n",
    "  p.draw = () => {\n",
    "    p.fill(255, 0, 0);\n",
    "    p.ellipse(p.width / 2, p.height / 2, 50, 50);\n",
    "  };\n",
    "};\n",
    "\n",
    "// // Start the sketch\n",
    "let p5Instance = p5.createSketch(sketch);\n"
   ]
  },
  {
   "cell_type": "code",
   "execution_count": null,
   "id": "46e1c311",
   "metadata": {},
   "outputs": [],
   "source": []
  },
  {
   "cell_type": "code",
   "execution_count": 5,
   "id": "c0e25c11-109e-4776-8e6b-91de5022af94",
   "metadata": {},
   "outputs": [
    {
     "data": {
      "text/html": [
       "<!DOCTYPE html>\n",
       "<html>\n",
       "\n",
       "<head>\n",
       "    <title>p5.js Sketch</title>\n",
       "    <script src=\"https://cdnjs.cloudflare.com/ajax/libs/p5.js/1.4.0/p5.js\"></script>\n",
       "</head>\n",
       "\n",
       "<body>\n",
       "    <script>\n",
       "        // Your p5.js code goes here\n",
       "\n",
       "        var xPos\n",
       "        var yPos\n",
       "\n",
       "        function setup() {\n",
       "            createCanvas(400, 400);\n",
       "\n",
       "            //Inialize variable \n",
       "            xPos = 100\n",
       "            yPos = 100\n",
       "        }\n",
       "\n",
       "        function draw() {\n",
       "            background(220);\n",
       "\n",
       "            xPos = mouseX\n",
       "            yPos = mouseY\n",
       "\n",
       "            ellipse(xPos, yPos, 55, 55);\n",
       "        }\n",
       "    </script>\n",
       "    Hello this is benjamin3 éE\n",
       "</body>\n",
       "\n",
       "</html>\n"
      ],
      "text/plain": [
       "<IPython.core.display.HTML object>"
      ]
     },
     "metadata": {},
     "output_type": "display_data"
    }
   ],
   "source": [
    "%%html\n",
    "<!DOCTYPE html>\n",
    "<html>\n",
    "\n",
    "<head>\n",
    "    <title>p5.js Sketch</title>\n",
    "    <script src=\"https://cdnjs.cloudflare.com/ajax/libs/p5.js/1.4.0/p5.js\"></script>\n",
    "</head>\n",
    "\n",
    "<body>\n",
    "    <script>\n",
    "        // Your p5.js code goes here\n",
    "\n",
    "        var xPos\n",
    "        var yPos\n",
    "\n",
    "        function setup() {\n",
    "            createCanvas(400, 400);\n",
    "\n",
    "            //Inialize variable \n",
    "            xPos = 100\n",
    "            yPos = 100\n",
    "        }\n",
    "\n",
    "        function draw() {\n",
    "            background(220);\n",
    "\n",
    "            xPos = mouseX\n",
    "            yPos = mouseY\n",
    "\n",
    "            ellipse(xPos, yPos, 55, 55);\n",
    "        }\n",
    "    </script>\n",
    "    Hello this is benjamin3 éE\n",
    "</body>\n",
    "\n",
    "</html>"
   ]
  },
  {
   "cell_type": "code",
   "execution_count": null,
   "id": "6734c45b-3766-4010-a264-429c81d46274",
   "metadata": {},
   "outputs": [],
   "source": []
  }
 ],
 "metadata": {
  "kernelspec": {
   "display_name": "Python 3 (ipykernel)",
   "language": "python",
   "name": "python3"
  },
  "language_info": {
   "codemirror_mode": {
    "name": "ipython",
    "version": 3
   },
   "file_extension": ".py",
   "mimetype": "text/x-python",
   "name": "python",
   "nbconvert_exporter": "python",
   "pygments_lexer": "ipython3",
   "version": "3.10.13"
  }
 },
 "nbformat": 4,
 "nbformat_minor": 5
}
